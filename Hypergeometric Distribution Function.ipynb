{
 "cells": [
  {
   "cell_type": "markdown",
   "id": "4c745285",
   "metadata": {},
   "source": [
    "# Hypergeometric Distribution Function (Recursive)"
   ]
  },
  {
   "cell_type": "code",
   "execution_count": 1,
   "id": "7ea8510b",
   "metadata": {
    "ExecuteTime": {
     "end_time": "2022-12-04T05:52:07.602719Z",
     "start_time": "2022-12-04T05:52:07.566087Z"
    }
   },
   "outputs": [],
   "source": [
    "#A recursive Factorial Function\n",
    "import time\n",
    "def recursive_factorial(n):\n",
    "    if n==0 or n==1:\n",
    "        return 1\n",
    "    else:\n",
    "        return n*recursive_factorial(n-1)\n",
    "\n",
    "def recursive_combination(p,q):\n",
    "    if q==0 or q==p:\n",
    "        return 1\n",
    "    elif q==1 or q==p-1:\n",
    "        return p\n",
    "    else:\n",
    "        return recursive_factorial(p)/(recursive_factorial(p-q)*recursive_factorial(q))\n",
    "\n",
    "#A recursive Hypergometric Distribution Function\n",
    "def recursive_hypergeom(n,m,k,i):\n",
    "    if i==0:\n",
    "        return recursive_combination(m,k)/recursive_combination(n+m,k)\n",
    "    else:\n",
    "        return  ((n-i+1)/i) * ( (k-i+1)/(m-k+i) )*recursive_hypergeom(n,m,k,i-1)"
   ]
  },
  {
   "cell_type": "code",
   "execution_count": 2,
   "id": "c8bd2b77",
   "metadata": {
    "ExecuteTime": {
     "end_time": "2022-12-04T05:52:07.627390Z",
     "start_time": "2022-12-04T05:52:07.609024Z"
    }
   },
   "outputs": [
    {
     "name": "stdout",
     "output_type": "stream",
     "text": [
      "n= 10 , m= 10  ,k= 5 , i= 0 , Hypergeom= 0.016253869969040248\n",
      "n= 10 , m= 10  ,k= 5 , i= 1 , Hypergeom= 0.13544891640866874\n",
      "n= 10 , m= 10  ,k= 5 , i= 2 , Hypergeom= 0.348297213622291\n",
      "n= 10 , m= 10  ,k= 5 , i= 3 , Hypergeom= 0.348297213622291\n",
      "n= 10 , m= 10  ,k= 5 , i= 4 , Hypergeom= 0.1354489164086687\n",
      "n= 10 , m= 10  ,k= 5 , i= 5 , Hypergeom= 0.016253869969040245\n",
      "Running Time 0.0055s\n"
     ]
    }
   ],
   "source": [
    "tic=time.perf_counter()\n",
    "n=10 ; m=10 ; k=5\n",
    "for i in range(0,6):\n",
    "    print('n=',n,', m=',m,' ,k=',k,', i=',i,', Hypergeom=',recursive_hypergeom(n,m,k,i))\n",
    "print(f\"Running Time {time.perf_counter() - tic:0.4f}s\")"
   ]
  },
  {
   "cell_type": "code",
   "execution_count": 3,
   "id": "0956c4e6",
   "metadata": {
    "ExecuteTime": {
     "end_time": "2022-12-04T05:52:07.660247Z",
     "start_time": "2022-12-04T05:52:07.638361Z"
    }
   },
   "outputs": [
    {
     "name": "stdout",
     "output_type": "stream",
     "text": [
      "n= 30 , m= 30  ,k= 15 , i= 0 , Hypergeom= 2.9160668479164215e-06\n",
      "n= 30 , m= 30  ,k= 15 , i= 1 , Hypergeom= 8.201438009764935e-05\n",
      "n= 30 , m= 30  ,k= 15 , i= 2 , Hypergeom= 0.0009793481858719306\n",
      "n= 30 , m= 30  ,k= 15 , i= 3 , Hypergeom= 0.0066015322158774585\n",
      "n= 30 , m= 30  ,k= 15 , i= 4 , Hypergeom= 0.028143374183477583\n",
      "n= 30 , m= 30  ,k= 15 , i= 5 , Hypergeom= 0.08049005016474589\n",
      "n= 30 , m= 30  ,k= 15 , i= 6 , Hypergeom= 0.15970248048560692\n",
      "n= 30 , m= 30  ,k= 15 , i= 7 , Hypergeom= 0.22399828431747465\n",
      "n= 30 , m= 30  ,k= 15 , i= 8 , Hypergeom= 0.22399828431747465\n",
      "n= 30 , m= 30  ,k= 15 , i= 9 , Hypergeom= 0.15970248048560695\n",
      "n= 30 , m= 30  ,k= 15 , i= 10 , Hypergeom= 0.0804900501647459\n",
      "Running Time 0.0129s\n"
     ]
    }
   ],
   "source": [
    "tic=time.perf_counter()\n",
    "n=30 ; m=30 ; k=15\n",
    "for i in range(0,11):\n",
    "    print('n=',n,', m=',m,' ,k=',k,', i=',i,', Hypergeom=',recursive_hypergeom(n,m,k,i))\n",
    "print(f\"Running Time {time.perf_counter() - tic:0.4f}s\")"
   ]
  },
  {
   "cell_type": "markdown",
   "id": "7931bf1f",
   "metadata": {},
   "source": [
    "# Hypergeometric Distribution Function"
   ]
  },
  {
   "cell_type": "code",
   "execution_count": 4,
   "id": "e1fc1327",
   "metadata": {
    "ExecuteTime": {
     "end_time": "2022-12-04T05:52:07.686294Z",
     "start_time": "2022-12-04T05:52:07.665659Z"
    }
   },
   "outputs": [],
   "source": [
    "#Factorial Function\n",
    "def factorial(n):\n",
    "    p=1\n",
    "    for i in range(1,n+1):\n",
    "        p=p*i\n",
    "    return p\n",
    "\n",
    "def combination(p,q):\n",
    "    if q==0 or q==p:\n",
    "        return 1\n",
    "    elif q==1 or q==p-1:\n",
    "        return p\n",
    "    else:\n",
    "        return factorial(p)/(factorial(p-q)*factorial(q))\n",
    "\n",
    "#Hypergometric Distribution Function\n",
    "def hypergeom(n,m,k,i):\n",
    "    return combination(n,i)*combination(m,k-i)/combination(n+m,k)"
   ]
  },
  {
   "cell_type": "code",
   "execution_count": 5,
   "id": "8d8b47a6",
   "metadata": {
    "ExecuteTime": {
     "end_time": "2022-12-04T05:52:07.708889Z",
     "start_time": "2022-12-04T05:52:07.692275Z"
    }
   },
   "outputs": [
    {
     "name": "stdout",
     "output_type": "stream",
     "text": [
      "n= 10 , m= 10  ,k= 5 , i= 0 , Hypergeom= 0.016253869969040248\n",
      "n= 10 , m= 10  ,k= 5 , i= 1 , Hypergeom= 0.13544891640866874\n",
      "n= 10 , m= 10  ,k= 5 , i= 2 , Hypergeom= 0.34829721362229105\n",
      "n= 10 , m= 10  ,k= 5 , i= 3 , Hypergeom= 0.34829721362229105\n",
      "n= 10 , m= 10  ,k= 5 , i= 4 , Hypergeom= 0.13544891640866874\n",
      "n= 10 , m= 10  ,k= 5 , i= 5 , Hypergeom= 0.016253869969040248\n",
      "Running Time 0.0038s\n"
     ]
    }
   ],
   "source": [
    "tic=time.perf_counter()\n",
    "n=10 ; m=10 ; k=5\n",
    "for i in range(0,6):\n",
    "    print('n=',n,', m=',m,' ,k=',k,', i=',i,', Hypergeom=',hypergeom(n,m,k,i))\n",
    "print(f\"Running Time {time.perf_counter() - tic:0.4f}s\")"
   ]
  },
  {
   "cell_type": "code",
   "execution_count": 6,
   "id": "b0be9ba7",
   "metadata": {
    "ExecuteTime": {
     "end_time": "2022-12-04T05:52:07.748304Z",
     "start_time": "2022-12-04T05:52:07.714597Z"
    }
   },
   "outputs": [
    {
     "name": "stdout",
     "output_type": "stream",
     "text": [
      "n= 30 , m= 30  ,k= 15 , i= 0 , Hypergeom= 2.9160668479164215e-06\n",
      "n= 30 , m= 30  ,k= 15 , i= 1 , Hypergeom= 8.201438009764936e-05\n",
      "n= 30 , m= 30  ,k= 15 , i= 2 , Hypergeom= 0.0009793481858719306\n",
      "n= 30 , m= 30  ,k= 15 , i= 3 , Hypergeom= 0.006601532215877458\n",
      "n= 30 , m= 30  ,k= 15 , i= 4 , Hypergeom= 0.028143374183477583\n",
      "n= 30 , m= 30  ,k= 15 , i= 5 , Hypergeom= 0.08049005016474589\n",
      "n= 30 , m= 30  ,k= 15 , i= 6 , Hypergeom= 0.15970248048560692\n",
      "n= 30 , m= 30  ,k= 15 , i= 7 , Hypergeom= 0.22399828431747465\n",
      "n= 30 , m= 30  ,k= 15 , i= 8 , Hypergeom= 0.22399828431747465\n",
      "n= 30 , m= 30  ,k= 15 , i= 9 , Hypergeom= 0.15970248048560692\n",
      "n= 30 , m= 30  ,k= 15 , i= 10 , Hypergeom= 0.08049005016474589\n",
      "Running Time 0.0138s\n"
     ]
    }
   ],
   "source": [
    "tic=time.perf_counter()\n",
    "n=30 ; m=30 ; k=15\n",
    "for i in range(0,11):\n",
    "    print('n=',n,', m=',m,' ,k=',k,', i=',i,', Hypergeom=',hypergeom(n,m,k,i))\n",
    "print(f\"Running Time {time.perf_counter() - tic:0.4f}s\")"
   ]
  }
 ],
 "metadata": {
  "kernelspec": {
   "display_name": "Python 3",
   "language": "python",
   "name": "python3"
  },
  "language_info": {
   "codemirror_mode": {
    "name": "ipython",
    "version": 3
   },
   "file_extension": ".py",
   "mimetype": "text/x-python",
   "name": "python",
   "nbconvert_exporter": "python",
   "pygments_lexer": "ipython3",
   "version": "3.8.8"
  },
  "toc": {
   "base_numbering": 1,
   "nav_menu": {},
   "number_sections": true,
   "sideBar": true,
   "skip_h1_title": false,
   "title_cell": "Table of Contents",
   "title_sidebar": "Contents",
   "toc_cell": false,
   "toc_position": {},
   "toc_section_display": true,
   "toc_window_display": false
  }
 },
 "nbformat": 4,
 "nbformat_minor": 5
}
